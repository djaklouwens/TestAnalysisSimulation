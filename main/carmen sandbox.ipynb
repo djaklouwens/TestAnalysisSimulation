{
 "cells": [
  {
   "cell_type": "code",
   "execution_count": 5,
   "metadata": {},
   "outputs": [],
   "source": [
    "import gim_tools\n",
    "import numpy as np\n"
   ]
  },
  {
   "cell_type": "code",
   "execution_count": 84,
   "metadata": {},
   "outputs": [],
   "source": [
    "satellite = [13.25, 16.89]\n",
    "\n",
    "def round_5(num, coord_type='lat'):\n",
    "    dec = num - int(num)\n",
    "    \n",
    "    if int(num) >= 0 and dec >= 0: \n",
    "        if dec != 0:\n",
    "            rnum = int(num) + 0.5\n",
    "        else: \n",
    "            rnum = num - 0.5 \n",
    "\n",
    "    if int(num) <0 or dec < 0:\n",
    "        if coord_type == 'lat':\n",
    "            if num == -90: rnum = -89.5\n",
    "            else: rnum = int(num) - 0.5\n",
    "        elif coord_type == 'long':\n",
    "            if num == -180: rnum = 179.5\n",
    "            else: rnum = int(num) - 0.5\n",
    "   \n",
    "    return rnum\n"
   ]
  },
  {
   "cell_type": "code",
   "execution_count": 92,
   "metadata": {},
   "outputs": [
    {
     "data": {
      "text/plain": [
       "179.5"
      ]
     },
     "execution_count": 92,
     "metadata": {},
     "output_type": "execute_result"
    }
   ],
   "source": [
    "round_5(-180, coord_type='long')\n"
   ]
  }
 ],
 "metadata": {
  "kernelspec": {
   "display_name": "Python 3",
   "language": "python",
   "name": "python3"
  },
  "language_info": {
   "codemirror_mode": {
    "name": "ipython",
    "version": 3
   },
   "file_extension": ".py",
   "mimetype": "text/x-python",
   "name": "python",
   "nbconvert_exporter": "python",
   "pygments_lexer": "ipython3",
   "version": "3.12.2"
  }
 },
 "nbformat": 4,
 "nbformat_minor": 2
}
