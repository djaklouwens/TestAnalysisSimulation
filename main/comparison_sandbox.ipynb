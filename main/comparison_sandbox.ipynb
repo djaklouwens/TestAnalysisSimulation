{
 "cells": [
  {
   "cell_type": "code",
   "execution_count": 1,
   "metadata": {},
   "outputs": [],
   "source": [
    "import numpy as np\n",
    "import matplotlib.pyplot as plt\n",
    "import rads_extraction\n",
    "import tec_interpolation\n"
   ]
  },
  {
   "cell_type": "markdown",
   "metadata": {},
   "source": [
    "- RADS model \n",
    "- IMIC model "
   ]
  },
  {
   "cell_type": "code",
   "execution_count": null,
   "metadata": {},
   "outputs": [],
   "source": [
    "def iono_formula(sat:str, TEC_gps:np.ndarray, alpha:float, beta:float)->np.ndarray:\n",
    "    if sat == 'c2':\n",
    "        f = 13.575e9 # TODO update\n",
    "    elif sat == 'j3':\n",
    "        f = 13.575e9 # primary band\n",
    "        # f2 = 5.3e9 # secondary band\n",
    "    elif sat == 's3':\n",
    "        f = 13.575e9\n",
    "    tecu = 1e16\n",
    "    \n",
    "    return (40.3/f**2)* alpha*beta* (TEC_gps*tecu)\n",
    "    "
   ]
  },
  {
   "cell_type": "code",
   "execution_count": 2,
   "metadata": {},
   "outputs": [
    {
     "data": {
      "text/plain": [
       "array([0.0519, 0.0078, 0.0272, 0.0225, 0.0095, 0.0224, 0.0112, 0.0126,\n",
       "       0.0371, 0.0134, 0.0345, 0.0221, 0.0309, 0.0286, 0.0108, 0.0088,\n",
       "       0.0381, 0.0277, 0.0063, 0.0409, 0.0273, 0.0239, 0.0062, 0.0254,\n",
       "       0.0066, 0.0545, 0.0079, 0.0186, 0.0093, 0.0395, 0.0343, 0.0085,\n",
       "       0.0283, 0.035 ])"
      ]
     },
     "execution_count": 2,
     "metadata": {},
     "output_type": "execute_result"
    }
   ],
   "source": [
    "validate = True\n",
    "sat = 'c2'\n",
    "\n",
    "\n",
    "\n",
    "\n",
    "time, lat, lon, sla_corrected   = rads_extraction.extract_rads(fr'{sat}_2016_summer.nc') #TODO check filenames\n",
    "time, lat, lon, sla_uncorrected = rads_extraction.extract_rads(fr'{sat}_2016_summer_no_iono.nc')\n",
    "\n",
    "sla_corrected-sla_uncorrected\n"
   ]
  },
  {
   "cell_type": "code",
   "execution_count": 3,
   "metadata": {},
   "outputs": [
    {
     "name": "stdout",
     "output_type": "stream",
     "text": [
      "Checking availability of source GIMs...\n",
      "Downloaded and decompressed: main/temp/jpli1970.16i.nc.gz\n",
      "All neccessary source GIMs availible for interpolation!\n",
      "Staring mass interpolation...\n",
      "Progress:  1 / 34\n",
      "Progress:  2 / 34\n",
      "Progress:  3 / 34\n",
      "Progress:  4 / 34\n",
      "Progress:  5 / 34\n",
      "Progress:  6 / 34\n",
      "Progress:  7 / 34\n",
      "Progress:  8 / 34\n",
      "Progress:  9 / 34\n",
      "Progress:  10 / 34\n",
      "Progress:  11 / 34\n",
      "Progress:  12 / 34\n",
      "Progress:  13 / 34\n",
      "Progress:  14 / 34\n",
      "Progress:  15 / 34\n",
      "Progress:  16 / 34\n",
      "Progress:  17 / 34\n",
      "Progress:  18 / 34\n",
      "Progress:  19 / 34\n",
      "Progress:  20 / 34\n",
      "Progress:  21 / 34\n",
      "Progress:  22 / 34\n",
      "Progress:  23 / 34\n",
      "Progress:  24 / 34\n",
      "Progress:  25 / 34\n",
      "Progress:  26 / 34\n",
      "Progress:  27 / 34\n",
      "Progress:  28 / 34\n",
      "Progress:  29 / 34\n",
      "Progress:  30 / 34\n",
      "Progress:  31 / 34\n",
      "Progress:  32 / 34\n",
      "Progress:  33 / 34\n",
      "Progress:  34 / 34\n",
      "Interpolated:  34 TEC points in Series Runtime:  0:00:23.340901  s\n"
     ]
    }
   ],
   "source": [
    "tec_GPS = tec_interpolation.mass_interpolate(lon, lat, time)"
   ]
  },
  {
   "cell_type": "code",
   "execution_count": 4,
   "metadata": {},
   "outputs": [],
   "source": [
    "alpha = 0.8\n",
    "beta  = 0.7\n",
    "# factor = alpha*beta\n",
    "factor = 1"
   ]
  },
  {
   "cell_type": "code",
   "execution_count": 5,
   "metadata": {},
   "outputs": [
    {
     "data": {
      "text/plain": [
       "0.00014812495639694972"
      ]
     },
     "execution_count": 5,
     "metadata": {},
     "output_type": "execute_result"
    }
   ],
   "source": [
    "tec_CS2 = factor*tec_GPS\n",
    "f = 13.575e9\n",
    "tecu = 1e16\n",
    "delta_iono_our = (40.3/f**2)* tec_CS2 * tecu\n",
    "rads_error = sla_corrected-sla_uncorrected\n",
    "from sklearn.metrics import mean_squared_error\n",
    "mse = mean_squared_error(rads_error, delta_iono_our)\n",
    "mse"
   ]
  },
  {
   "cell_type": "code",
   "execution_count": 6,
   "metadata": {},
   "outputs": [
    {
     "data": {
      "text/plain": [
       " message: Optimization terminated successfully.\n",
       " success: True\n",
       "  status: 1\n",
       "     fun: 1.2486926270626888e-05\n",
       "       x: [ 9.339e-01]\n",
       "    nfev: 21\n",
       "   maxcv: 0.0"
      ]
     },
     "execution_count": 6,
     "metadata": {},
     "output_type": "execute_result"
    }
   ],
   "source": [
    "from sklearn.metrics import mean_squared_error\n",
    "import scipy as sp\n",
    "\n",
    "def fun(factor):\n",
    "    # constants \n",
    "    tec_SAT = factor*tec_GPS\n",
    "    tecu = 1e16\n",
    "    delta_iono_our = (40.3/f1**2)* tec_SAT * tecu\n",
    "    rads_error = sla_corrected-sla_uncorrected\n",
    "    mse = mean_squared_error(rads_error, delta_iono_our)\n",
    "    return mse\n",
    "\n",
    "bnds = ((0.0, 1.0),)\n",
    "\n",
    "sp.optimize.minimize(fun, (0.8), method='COBYLA', bounds=bnds)"
   ]
  },
  {
   "cell_type": "code",
   "execution_count": 64,
   "metadata": {},
   "outputs": [],
   "source": [
    "bnds = ((0.0, 1.0), )\n",
    "lb, up = zip(*bnds)"
   ]
  }
 ],
 "metadata": {
  "kernelspec": {
   "display_name": "Python 3",
   "language": "python",
   "name": "python3"
  },
  "language_info": {
   "codemirror_mode": {
    "name": "ipython",
    "version": 3
   },
   "file_extension": ".py",
   "mimetype": "text/x-python",
   "name": "python",
   "nbconvert_exporter": "python",
   "pygments_lexer": "ipython3",
   "version": "3.12.2"
  }
 },
 "nbformat": 4,
 "nbformat_minor": 2
}
