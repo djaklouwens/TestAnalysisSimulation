{
 "cells": [
  {
   "cell_type": "code",
   "execution_count": 1,
   "metadata": {},
   "outputs": [],
   "source": [
    "import numpy as np\n",
    "import matplotlib.pyplot as plt\n",
    "import matplotlib.dates as mdates\n",
    "import rads_extraction\n",
    "import tec_interpolation\n",
    "import datetime as dt\n"
   ]
  },
  {
   "cell_type": "markdown",
   "metadata": {},
   "source": [
    "- RADS model \n",
    "- IMIC model "
   ]
  },
  {
   "cell_type": "code",
   "execution_count": 2,
   "metadata": {},
   "outputs": [],
   "source": [
    "def time_convert(date:str):\n",
    "    '''\n",
    "    Function that converts a date string from \"HH:MM DD/MM/YYYY\" to \"YYYY-MM-DDTHH:MM:SS\"\n",
    "    '''\n",
    "    date = date.split(' ')\n",
    "    time = date[0].split(':')\n",
    "    date = date[1].split('/')\n",
    "    return f'{date[2]}-{date[1]}-{date[0]}T{time[0]}:{time[1]}:00'"
   ]
  },
  {
   "cell_type": "code",
   "execution_count": 3,
   "metadata": {},
   "outputs": [],
   "source": [
    "def imic(alpha, beta, f=13.575e9, filename=None):\n",
    "    '''docstring TODO'''\n",
    "    tecu = 1e16\n",
    "        \n",
    "    time, lat, lon, sla_uncorrected = rads_extraction.extract_rads(filename) #TODO check filenames\n",
    "    tec_GPS = tec_interpolation.mass_interpolate(lon, lat, time)\n",
    "    \n",
    "    if isinstance(alpha, float):\n",
    "        return time, lat, lon, (40.3/f**2)*alpha*beta*(tec_GPS*tecu) + sla_uncorrected\n",
    "    else:\n",
    "        sla = [(40.3/f**2)*alpha[i]*beta[i]*(tec_GPS*tecu) + sla_uncorrected for i in range(len(alpha))]\n",
    "        return time, lat, lon, tuple(sla)"
   ]
  },
  {
   "cell_type": "markdown",
   "metadata": {},
   "source": [
    "## Validation with Sentinel-3A"
   ]
  },
  {
   "cell_type": "code",
   "execution_count": 4,
   "metadata": {},
   "outputs": [
    {
     "name": "stdout",
     "output_type": "stream",
     "text": [
      "C:\\Users\\Alfon\\OneDrive - Delft University of Technology\\02 Second Year\\BSc2 Q3\\AE2224-I - Test, Analysis & Simulation\\02 Code\\TestAnalysisSimulation\\main\\RADS\\final_data\\\\s3a_2016_1500_noiono.nc\n",
      "C:\\Users\\Alfon\\OneDrive - Delft University of Technology\\02 Second Year\\BSc2 Q3\\AE2224-I - Test, Analysis & Simulation\\02 Code\\TestAnalysisSimulation\\main\\RADS\\final_data\\\\s3a_2016_1500.nc\n",
      "C:\\Users\\Alfon\\OneDrive - Delft University of Technology\\02 Second Year\\BSc2 Q3\\AE2224-I - Test, Analysis & Simulation\\02 Code\\TestAnalysisSimulation\\main\\RADS\\final_data\\\\s3a_2016_1500_noiono.nc\n",
      "C:\\Users\\Alfon\\OneDrive - Delft University of Technology\\02 Second Year\\BSc2 Q3\\AE2224-I - Test, Analysis & Simulation\\02 Code\\TestAnalysisSimulation\\main\\RADS\\final_data\\\\s3a_2016_1500_noiono.nc\n",
      "Checking availability of source GIMs...\n",
      "Downloaded and decompressed: main/temp/jpld1260.16i.nc.gz\n",
      "Downloaded and decompressed: main/temp/jpld1270.16i.nc.gz\n",
      "Downloaded and decompressed: main/temp/jpld1280.16i.nc.gz\n",
      "Downloaded and decompressed: main/temp/jpld1290.16i.nc.gz\n",
      "Downloaded and decompressed: main/temp/jpld1300.16i.nc.gz\n",
      "Downloaded and decompressed: main/temp/jpld1310.16i.nc.gz\n",
      "Downloaded and decompressed: main/temp/jpld1320.16i.nc.gz\n",
      "Downloaded and decompressed: main/temp/jpld1330.16i.nc.gz\n",
      "Downloaded and decompressed: main/temp/jpld1340.16i.nc.gz\n",
      "Downloaded and decompressed: main/temp/jpld1350.16i.nc.gz\n",
      "Downloaded and decompressed: main/temp/jpld1360.16i.nc.gz\n",
      "Downloaded and decompressed: main/temp/jpld1370.16i.nc.gz\n",
      "Downloaded and decompressed: main/temp/jpld1380.16i.nc.gz\n",
      "Downloaded and decompressed: main/temp/jpld1390.16i.nc.gz\n",
      "Downloaded and decompressed: main/temp/jpld1400.16i.nc.gz\n",
      "Downloaded and decompressed: main/temp/jpld1410.16i.nc.gz\n",
      "Downloaded and decompressed: main/temp/jpld1420.16i.nc.gz\n",
      "Downloaded and decompressed: main/temp/jpld1430.16i.nc.gz\n",
      "Downloaded and decompressed: main/temp/jpld1440.16i.nc.gz\n",
      "Downloaded and decompressed: main/temp/jpld1450.16i.nc.gz\n",
      "Downloaded and decompressed: main/temp/jpld1460.16i.nc.gz\n",
      "Downloaded and decompressed: main/temp/jpld1470.16i.nc.gz\n",
      "Downloaded and decompressed: main/temp/jpld1480.16i.nc.gz\n",
      "Downloaded and decompressed: main/temp/jpld1490.16i.nc.gz\n",
      "Downloaded and decompressed: main/temp/jpld1500.16i.nc.gz\n",
      "Downloaded and decompressed: main/temp/jpld1510.16i.nc.gz\n",
      "Downloaded and decompressed: main/temp/jpld1520.16i.nc.gz\n",
      "Downloaded and decompressed: main/temp/jpld1530.16i.nc.gz\n",
      "Downloaded and decompressed: main/temp/jpld1540.16i.nc.gz\n",
      "Downloaded and decompressed: main/temp/jpld1550.16i.nc.gz\n",
      "Downloaded and decompressed: main/temp/jpld1560.16i.nc.gz\n",
      "Downloaded and decompressed: main/temp/jpld1570.16i.nc.gz\n",
      "Downloaded and decompressed: main/temp/jpld1580.16i.nc.gz\n",
      "Downloaded and decompressed: main/temp/jpld1590.16i.nc.gz\n",
      "Downloaded and decompressed: main/temp/jpld1600.16i.nc.gz\n",
      "Downloaded and decompressed: main/temp/jpld1610.16i.nc.gz\n",
      "Downloaded and decompressed: main/temp/jpld1620.16i.nc.gz\n",
      "Downloaded and decompressed: main/temp/jpld1630.16i.nc.gz\n",
      "Downloaded and decompressed: main/temp/jpld1640.16i.nc.gz\n",
      "Downloaded and decompressed: main/temp/jpld1650.16i.nc.gz\n",
      "Downloaded and decompressed: main/temp/jpld1660.16i.nc.gz\n",
      "Downloaded and decompressed: main/temp/jpld1670.16i.nc.gz\n",
      "Downloaded and decompressed: main/temp/jpld1680.16i.nc.gz\n",
      "Downloaded and decompressed: main/temp/jpld1690.16i.nc.gz\n",
      "Downloaded and decompressed: main/temp/jpld1700.16i.nc.gz\n",
      "Downloaded and decompressed: main/temp/jpld1710.16i.nc.gz\n",
      "Downloaded and decompressed: main/temp/jpld1720.16i.nc.gz\n",
      "Downloaded and decompressed: main/temp/jpld1730.16i.nc.gz\n",
      "Downloaded and decompressed: main/temp/jpld1740.16i.nc.gz\n",
      "Downloaded and decompressed: main/temp/jpld1750.16i.nc.gz\n",
      "Downloaded and decompressed: main/temp/jpld1760.16i.nc.gz\n",
      "Downloaded and decompressed: main/temp/jpld1770.16i.nc.gz\n",
      "Downloaded and decompressed: main/temp/jpld1780.16i.nc.gz\n",
      "Downloaded and decompressed: main/temp/jpld1790.16i.nc.gz\n",
      "Downloaded and decompressed: main/temp/jpld1800.16i.nc.gz\n",
      "Downloaded and decompressed: main/temp/jpld1810.16i.nc.gz\n",
      "Downloaded and decompressed: main/temp/jpld1820.16i.nc.gz\n",
      "Downloaded and decompressed: main/temp/jpld1830.16i.nc.gz\n",
      "Downloaded and decompressed: main/temp/jpld1840.16i.nc.gz\n",
      "Downloaded and decompressed: main/temp/jpld1850.16i.nc.gz\n",
      "Downloaded and decompressed: main/temp/jpld1860.16i.nc.gz\n",
      "Downloaded and decompressed: main/temp/jpld1870.16i.nc.gz\n",
      "Downloaded and decompressed: main/temp/jpld1880.16i.nc.gz\n",
      "Downloaded and decompressed: main/temp/jpld1890.16i.nc.gz\n",
      "Downloaded and decompressed: main/temp/jpld1900.16i.nc.gz\n",
      "Downloaded and decompressed: main/temp/jpld1910.16i.nc.gz\n",
      "Downloaded and decompressed: main/temp/jpld1920.16i.nc.gz\n",
      "Downloaded and decompressed: main/temp/jpld1930.16i.nc.gz\n",
      "Downloaded and decompressed: main/temp/jpld1940.16i.nc.gz\n",
      "Downloaded and decompressed: main/temp/jpld1950.16i.nc.gz\n",
      "Downloaded and decompressed: main/temp/jpld1960.16i.nc.gz\n",
      "Downloaded and decompressed: main/temp/jpld1970.16i.nc.gz\n",
      "Downloaded and decompressed: main/temp/jpld1980.16i.nc.gz\n",
      "Downloaded and decompressed: main/temp/jpld1990.16i.nc.gz\n",
      "Downloaded and decompressed: main/temp/jpld2000.16i.nc.gz\n",
      "Downloaded and decompressed: main/temp/jpld2010.16i.nc.gz\n",
      "Downloaded and decompressed: main/temp/jpld2020.16i.nc.gz\n",
      "Downloaded and decompressed: main/temp/jpld2030.16i.nc.gz\n",
      "Downloaded and decompressed: main/temp/jpld2040.16i.nc.gz\n",
      "Downloaded and decompressed: main/temp/jpld2050.16i.nc.gz\n",
      "Downloaded and decompressed: main/temp/jpld2060.16i.nc.gz\n",
      "Downloaded and decompressed: main/temp/jpld2070.16i.nc.gz\n",
      "Downloaded and decompressed: main/temp/jpld2080.16i.nc.gz\n",
      "Downloaded and decompressed: main/temp/jpld2090.16i.nc.gz\n",
      "Downloaded and decompressed: main/temp/jpld2100.16i.nc.gz\n",
      "Downloaded and decompressed: main/temp/jpld2110.16i.nc.gz\n",
      "Downloaded and decompressed: main/temp/jpld2120.16i.nc.gz\n",
      "Downloaded and decompressed: main/temp/jpld2130.16i.nc.gz\n",
      "Downloaded and decompressed: main/temp/jpld2140.16i.nc.gz\n",
      "Downloaded and decompressed: main/temp/jpld2150.16i.nc.gz\n",
      "Downloaded and decompressed: main/temp/jpld2160.16i.nc.gz\n",
      "Downloaded and decompressed: main/temp/jpld2170.16i.nc.gz\n",
      "Downloaded and decompressed: main/temp/jpld2180.16i.nc.gz\n",
      "Downloaded and decompressed: main/temp/jpld2190.16i.nc.gz\n",
      "Downloaded and decompressed: main/temp/jpld2200.16i.nc.gz\n",
      "Downloaded and decompressed: main/temp/jpld2210.16i.nc.gz\n",
      "Downloaded and decompressed: main/temp/jpld2220.16i.nc.gz\n",
      "Downloaded and decompressed: main/temp/jpld2230.16i.nc.gz\n",
      "Downloaded and decompressed: main/temp/jpld2240.16i.nc.gz\n",
      "Downloaded and decompressed: main/temp/jpld2250.16i.nc.gz\n",
      "Downloaded and decompressed: main/temp/jpld2260.16i.nc.gz\n",
      "Downloaded and decompressed: main/temp/jpld2270.16i.nc.gz\n",
      "Downloaded and decompressed: main/temp/jpld2280.16i.nc.gz\n",
      "Downloaded and decompressed: main/temp/jpld2290.16i.nc.gz\n",
      "Downloaded and decompressed: main/temp/jpld2300.16i.nc.gz\n",
      "Downloaded and decompressed: main/temp/jpld2310.16i.nc.gz\n",
      "Downloaded and decompressed: main/temp/jpld2320.16i.nc.gz\n",
      "Downloaded and decompressed: main/temp/jpld2330.16i.nc.gz\n",
      "Downloaded and decompressed: main/temp/jpld2340.16i.nc.gz\n",
      "Downloaded and decompressed: main/temp/jpld2350.16i.nc.gz\n",
      "Downloaded and decompressed: main/temp/jpld2360.16i.nc.gz\n",
      "Downloaded and decompressed: main/temp/jpld2370.16i.nc.gz\n",
      "Downloaded and decompressed: main/temp/jpld2380.16i.nc.gz\n",
      "Downloaded and decompressed: main/temp/jpld2390.16i.nc.gz\n",
      "Downloaded and decompressed: main/temp/jpld2400.16i.nc.gz\n",
      "Downloaded and decompressed: main/temp/jpld2410.16i.nc.gz\n",
      "Downloaded and decompressed: main/temp/jpld2420.16i.nc.gz\n",
      "Downloaded and decompressed: main/temp/jpld2430.16i.nc.gz\n",
      "Downloaded and decompressed: main/temp/jpld2440.16i.nc.gz\n",
      "Downloaded and decompressed: main/temp/jpld2450.16i.nc.gz\n",
      "Downloaded and decompressed: main/temp/jpld2460.16i.nc.gz\n",
      "Downloaded and decompressed: main/temp/jpld2470.16i.nc.gz\n",
      "Downloaded and decompressed: main/temp/jpld2480.16i.nc.gz\n",
      "Downloaded and decompressed: main/temp/jpld2490.16i.nc.gz\n",
      "Downloaded and decompressed: main/temp/jpld2500.16i.nc.gz\n",
      "Downloaded and decompressed: main/temp/jpld2510.16i.nc.gz\n",
      "Downloaded and decompressed: main/temp/jpld2520.16i.nc.gz\n",
      "Downloaded and decompressed: main/temp/jpld2530.16i.nc.gz\n",
      "Downloaded and decompressed: main/temp/jpld2540.16i.nc.gz\n",
      "Downloaded and decompressed: main/temp/jpld2550.16i.nc.gz\n",
      "Downloaded and decompressed: main/temp/jpld2560.16i.nc.gz\n",
      "Downloaded and decompressed: main/temp/jpld2570.16i.nc.gz\n",
      "Downloaded and decompressed: main/temp/jpld2580.16i.nc.gz\n",
      "Downloaded and decompressed: main/temp/jpld2590.16i.nc.gz\n",
      "Downloaded and decompressed: main/temp/jpld2600.16i.nc.gz\n",
      "Downloaded and decompressed: main/temp/jpld2610.16i.nc.gz\n",
      "Downloaded and decompressed: main/temp/jpld2620.16i.nc.gz\n",
      "Downloaded and decompressed: main/temp/jpld2630.16i.nc.gz\n"
     ]
    }
   ],
   "source": [
    "alpha, beta = 0.8452, 0.936\n",
    "\n",
    "time_1, lat, lon, sla_uncorrected = rads_extraction.extract_rads(r'final_data\\\\s3a_2016_1500_noiono.nc') #TODO check filenames\n",
    "time_2, lat, lon, sla_true        = rads_extraction.extract_rads(r'final_data\\\\s3a_2016_1500.nc')        #TODO check filenames\n",
    "time_3, lat, lon, sla_RADS_gim    = rads_extraction.extract_rads(r'final_data\\\\s3a_2016_1500_noiono.nc') #TODO check filenames\n",
    "time_4, lat, lon, (sla_IMIC_gim, sla_unscaled) = imic(alpha=(alpha, 1), beta=(beta, 1), filename=r'final_data\\\\s3a_2016_1500_noiono.nc')\n",
    "\n",
    "time_lst = [time_1, time_2, time_3, time_4]\n",
    "\n",
    "\n",
    "check = [all(x == y for y in time_lst) for x in time_lst]"
   ]
  },
  {
   "cell_type": "code",
   "execution_count": null,
   "metadata": {},
   "outputs": [],
   "source": [
    "\n",
    "diff_unscaled = sla_unscaled - sla_true\n",
    "diff_IMIC     = sla_IMIC_gim - sla_true\n",
    "diff_RADS_gim = sla_unscaled - sla_true\n",
    "\n",
    "diff_arr = np.array([diff_unscaled, diff_IMIC, diff_RADS_gim])\n",
    "\n",
    "unit_change = 100\n",
    "\n",
    "mean_arr = np.mean(unit_change*diff_arr, axis=-1)\n",
    "std_arr  = np.std( unit_change*diff_arr, axis=-1)\n",
    "# printing the results\n",
    "print(f'       | Unscaled | IMIC | RADS GIM')\n",
    "print(f'Mean   | {mean_arr}')\n",
    "print(f'STD    | {std_arr}')\n",
    "\n",
    "# ----------- plotting ----------------\n",
    "\n",
    "# setting the x-axis appropriately\n",
    "dates = [dt.datetime.fromisoformat(time_convert(date)) for date in time_1]\n",
    "plt.gca().xaxis.set_major_formatter(mdates.DateFormatter('%Y/%m/%d'))\n",
    "plt.gca().xaxis.set_major_locator(mdates.DayLocator(interval=50))\n",
    "plt.gcf().autofmt_xdate()\n",
    "\n",
    "# \n",
    "plt.plot(dates, unit_change*diff_unscaled, color='orange', label=r'unscaled IMIC model ($\\alpha=\\beta=1$)')\n",
    "plt.plot(dates, unit_change*diff_IMIC    , color='green' , label='scaling with IMIC model')\n",
    "plt.plot(dates, unit_change*diff_RADS_gim, color='blue'  , label='scaling with RADS GIM model')\n",
    "\n",
    "plt.grid(True, alpha=0.6)\n",
    "plt.legend()\n",
    "plt.xlabel('Time')\n",
    "plt.ylabel('diff wrt. dual-frequency measurement [cm]')\n",
    "\n"
   ]
  },
  {
   "cell_type": "code",
   "execution_count": 26,
   "metadata": {},
   "outputs": [],
   "source": [
    "import numpy as np\n",
    "\n",
    "def imic(alpha, beta, f=13.575e9, filename=None):\n",
    "    '''docstring TODO'''\n",
    "    tecu = 1e16\n",
    "        \n",
    "    time, lat, lon, sla_uncorrected = np.zeros((4, 16))\n",
    "    tec_GPS = np.ones((16))\n",
    "\n",
    "    if isinstance(alpha, float) or isinstance(alpha, int):\n",
    "        return time, lat, lon, (40.3/f**2)*alpha*beta*(tec_GPS*tecu) + sla_uncorrected\n",
    "    else:\n",
    "        sla = [((40.3/f**2)*alpha[i]*beta[i]*(tec_GPS*tecu) + sla_uncorrected) for i in range(len(alpha))]\n",
    "        return time, lat, lon, tuple(sla)"
   ]
  },
  {
   "cell_type": "code",
   "execution_count": 27,
   "metadata": {},
   "outputs": [
    {
     "data": {
      "text/plain": [
       "(array([0., 0., 0., 0., 0., 0., 0., 0., 0., 0., 0., 0., 0., 0., 0., 0.]),\n",
       " array([0., 0., 0., 0., 0., 0., 0., 0., 0., 0., 0., 0., 0., 0., 0., 0.]),\n",
       " array([0., 0., 0., 0., 0., 0., 0., 0., 0., 0., 0., 0., 0., 0., 0., 0.]),\n",
       " (array([0.00173006, 0.00173006, 0.00173006, 0.00173006, 0.00173006,\n",
       "         0.00173006, 0.00173006, 0.00173006, 0.00173006, 0.00173006,\n",
       "         0.00173006, 0.00173006, 0.00173006, 0.00173006, 0.00173006,\n",
       "         0.00173006]),\n",
       "  array([0.00306163, 0.00306163, 0.00306163, 0.00306163, 0.00306163,\n",
       "         0.00306163, 0.00306163, 0.00306163, 0.00306163, 0.00306163,\n",
       "         0.00306163, 0.00306163, 0.00306163, 0.00306163, 0.00306163,\n",
       "         0.00306163])))"
      ]
     },
     "execution_count": 27,
     "metadata": {},
     "output_type": "execute_result"
    }
   ],
   "source": [
    "alpha, beta = 0.8452, 0.936\n",
    "imic(alpha=(alpha, 2), beta=(beta, 0.7))"
   ]
  },
  {
   "cell_type": "code",
   "execution_count": 18,
   "metadata": {},
   "outputs": [
    {
     "data": {
      "text/plain": [
       "False"
      ]
     },
     "execution_count": 18,
     "metadata": {},
     "output_type": "execute_result"
    }
   ],
   "source": [
    "import numpy as np\n",
    "\n",
    "x1 = np.array([0, 0, 0, 0])\n",
    "x2 = np.array([0, 0, 1, 0])\n",
    "x3 = np.array([0, 0, 0, 0])\n",
    "\n",
    "x_lst = np.array([x1, x2, x3])\n",
    "\n",
    "np.array([np.isclose(x_lst, xi).all() for xi in x_lst]).all()"
   ]
  },
  {
   "cell_type": "code",
   "execution_count": 19,
   "metadata": {},
   "outputs": [],
   "source": [
    "import datetime as dt"
   ]
  },
  {
   "cell_type": "code",
   "execution_count": 23,
   "metadata": {},
   "outputs": [
    {
     "data": {
      "text/plain": [
       "'2024-05-12 13:23'"
      ]
     },
     "execution_count": 23,
     "metadata": {},
     "output_type": "execute_result"
    }
   ],
   "source": [
    "f'{dt.datetime.now():%Y-%m-%d %H:%M}'"
   ]
  },
  {
   "cell_type": "code",
   "execution_count": 25,
   "metadata": {},
   "outputs": [],
   "source": [
    "from directory_paths import res_dir"
   ]
  },
  {
   "cell_type": "code",
   "execution_count": 27,
   "metadata": {},
   "outputs": [],
   "source": [
    "import pandas as pd\n",
    "import os\n",
    "alpha, beta = 0.3423, 0.4532\n",
    "x1 = np.array([0, 2.5468, 0])\n",
    "x2 = np.array([8.1681, 0, 1])\n",
    "df = pd.DataFrame([x1, x2], ['Mean (cm)', 'Std (cm)'], ['Unscaled', 'IMIC', 'RADS GIM'])\n",
    "\n",
    "res_fname = f'{dt.datetime.now():%Y-%m-%d %H.%M} - TEST - a={alpha} b={beta}.txt'\n",
    "\n",
    "with open(os.path.join(res_dir, res_fname), 'a') as f:\n",
    "    df.to_string(buf=f)\n"
   ]
  },
  {
   "cell_type": "code",
   "execution_count": 28,
   "metadata": {},
   "outputs": [
    {
     "data": {
      "text/plain": [
       "'test\\\\.png'"
      ]
     },
     "execution_count": 28,
     "metadata": {},
     "output_type": "execute_result"
    }
   ],
   "source": [
    "os.path.join('test', '.png')"
   ]
  },
  {
   "cell_type": "code",
   "execution_count": 29,
   "metadata": {},
   "outputs": [
    {
     "data": {
      "text/plain": [
       "0.83435"
      ]
     },
     "execution_count": 29,
     "metadata": {},
     "output_type": "execute_result"
    }
   ],
   "source": [
    "(0.8737+0.795)/2"
   ]
  },
  {
   "cell_type": "code",
   "execution_count": 2,
   "metadata": {},
   "outputs": [
    {
     "name": "stdout",
     "output_type": "stream",
     "text": [
      "C:\\Users\\Alfon\\OneDrive - Delft University of Technology\\02 Second Year\\BSc2 Q3\\AE2224-I - Test, Analysis & Simulation\\02 Code\\TestAnalysisSimulation\\main\\RADS\\final_data\\\\s3a_2016_1500_noiono.nc\n",
      "C:\\Users\\Alfon\\OneDrive - Delft University of Technology\\02 Second Year\\BSc2 Q3\\AE2224-I - Test, Analysis & Simulation\\02 Code\\TestAnalysisSimulation\\main\\RADS\\final_data\\\\s3a_2016_1500.nc\n"
     ]
    },
    {
     "data": {
      "text/plain": [
       "(6825, 6812)"
      ]
     },
     "execution_count": 2,
     "metadata": {},
     "output_type": "execute_result"
    }
   ],
   "source": [
    "time_1, lat1, lon1, sla_uncorrected = rads_extraction.extract_rads(r'final_data\\\\s3a_2016_1500_noiono.nc') #TODO check filenames\n",
    "time_2, lat, lon, sla_true        = rads_extraction.extract_rads(r'final_data\\\\s3a_2016_1500.nc')        #TODO check filenames\n",
    "\n",
    "len(time_1), len(time_2)"
   ]
  },
  {
   "cell_type": "code",
   "execution_count": 3,
   "metadata": {},
   "outputs": [
    {
     "name": "stdout",
     "output_type": "stream",
     "text": [
      "C:\\Users\\Alfon\\OneDrive - Delft University of Technology\\02 Second Year\\BSc2 Q3\\AE2224-I - Test, Analysis & Simulation\\02 Code\\TestAnalysisSimulation\\main\\RADS\\final_data\\\\s3a_2016_1500_noiono_v2.nc\n",
      "C:\\Users\\Alfon\\OneDrive - Delft University of Technology\\02 Second Year\\BSc2 Q3\\AE2224-I - Test, Analysis & Simulation\\02 Code\\TestAnalysisSimulation\\main\\RADS\\final_data\\\\s3a_2016_1500_v2.nc\n"
     ]
    },
    {
     "data": {
      "text/plain": [
       "(6825, 6812)"
      ]
     },
     "execution_count": 3,
     "metadata": {},
     "output_type": "execute_result"
    }
   ],
   "source": [
    "time_1, lat1, lon1, sla_uncorrected = rads_extraction.extract_rads(r'final_data\\\\s3a_2016_1500_noiono_v2.nc') #TODO check filenames\n",
    "time_2, lat, lon, sla_true        = rads_extraction.extract_rads(r'final_data\\\\s3a_2016_1500_v2.nc')        #TODO check filenames\n",
    "\n",
    "len(time_1), len(time_2)"
   ]
  }
 ],
 "metadata": {
  "kernelspec": {
   "display_name": "Python 3",
   "language": "python",
   "name": "python3"
  },
  "language_info": {
   "codemirror_mode": {
    "name": "ipython",
    "version": 3
   },
   "file_extension": ".py",
   "mimetype": "text/x-python",
   "name": "python",
   "nbconvert_exporter": "python",
   "pygments_lexer": "ipython3",
   "version": "3.12.2"
  }
 },
 "nbformat": 4,
 "nbformat_minor": 2
}
