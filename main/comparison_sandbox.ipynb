{
 "cells": [
  {
   "cell_type": "code",
   "execution_count": 4,
   "metadata": {},
   "outputs": [
    {
     "name": "stderr",
     "output_type": "stream",
     "text": [
      "<frozen importlib._bootstrap>:488: RuntimeWarning: numpy.ndarray size changed, may indicate binary incompatibility. Expected 16 from C header, got 96 from PyObject\n",
      "<frozen importlib._bootstrap>:488: RuntimeWarning: numpy.ndarray size changed, may indicate binary incompatibility. Expected 80 from C header, got 96 from PyObject\n"
     ]
    }
   ],
   "source": [
    "import numpy as np\n",
    "import matplotlib.pyplot as plt\n",
    "import matplotlib.dates as mdates\n",
    "import rads_extraction\n",
    "import tec_interpolation\n",
    "import datetime as dt\n"
   ]
  },
  {
   "cell_type": "markdown",
   "metadata": {},
   "source": [
    "- RADS model \n",
    "- IMIC model "
   ]
  },
  {
   "cell_type": "code",
   "execution_count": null,
   "metadata": {},
   "outputs": [],
   "source": [
    "def time_convert(date:str):\n",
    "    '''\n",
    "    Function that converts a date string from \"HH:MM DD/MM/YYYY\" to \"YYYY-MM-DDTHH:MM:SS\"\n",
    "    '''\n",
    "    date = date.split(' ')\n",
    "    time = date[0].split(':')\n",
    "    date = date[1].split('/')\n",
    "    return f'{date[2]}-{date[1]}-{date[0]}T{time[0]}:{time[1]}:00'"
   ]
  },
  {
   "cell_type": "code",
   "execution_count": 5,
   "metadata": {},
   "outputs": [],
   "source": [
    "def imic(sat, year, alpha, beta, f=13.575e9, filename=None):\n",
    "    '''docstring TODO'''\n",
    "    tecu = 1e16\n",
    "\n",
    "    if filename==None: filename = fr'{sat}_{year}_no_iono.nc'\n",
    "        \n",
    "    time, lat, lon, sla_uncorrected = rads_extraction.extract_rads(filename) #TODO check filenames\n",
    "    tec_GPS = tec_interpolation.mass_interpolate(lon, lat, time)\n",
    "    \n",
    "    return (40.3/f**2)*alpha*beta*(tec_GPS*tecu) + sla_uncorrected"
   ]
  },
  {
   "cell_type": "markdown",
   "metadata": {},
   "source": [
    "## Validation with Sentinel-3A"
   ]
  },
  {
   "cell_type": "code",
   "execution_count": null,
   "metadata": {},
   "outputs": [],
   "source": [
    "alpha, beta = 0.88, 0.99\n",
    "\n",
    "time_1, lat, lon, sla_uncorrected = rads_extraction.extract_rads(filename) #TODO check filenames\n",
    "time_2, lat, lon, sla_true        = rads_extraction.extract_rads(filename) #TODO check filenames\n",
    "time_3, lat, lon, sla_RADS_gim = rads_extraction.extract_rads(filename) #TODO check filenames\n",
    "time_4, lat, lon, sla_IMIC_gim = imic('3a', 2016, alpha, beta)\n",
    "time_5, lat, lon, sla_unscaled = imic('3a', 2016, 1, 1)\n",
    "\n",
    "time_lst = [time_1, time_2, time_3, time_4, time_5]\n",
    "\n",
    "\n",
    "check = [all(x == y for y in time_lst) for x in time_lst]\n"
   ]
  },
  {
   "cell_type": "code",
   "execution_count": null,
   "metadata": {},
   "outputs": [],
   "source": [
    "\n",
    "diff_unscaled = sla_unscaled - sla_true\n",
    "diff_IMIC     = sla_IMIC_gim - sla_true\n",
    "diff_RADS_gim = sla_unscaled - sla_true\n",
    "\n",
    "diff_arr = np.array([diff_unscaled, diff_IMIC, diff_RADS_gim])\n",
    "\n",
    "unit_change = 100\n",
    "\n",
    "mean_arr = np.mean(unit_change*diff_arr, axis=-1)\n",
    "std_arr  = np.std(unit_change*diff_arr, axis=-1)\n",
    "# printing the results\n",
    "print(f'       | Unscaled | IMIC | RADS GIM')\n",
    "print(f'Mean   | {mean_arr}')\n",
    "print(f'STD    | {std_arr}')\n",
    "\n",
    "# ----------- plotting ----------------\n",
    "\n",
    "# setting the x-axis appropriately\n",
    "dates = [dt.datetime.fromisoformat(time_convert(date)) for date in time_1]\n",
    "plt.gca().xaxis.set_major_formatter(mdates.DateFormatter('%Y/%m/%d'))\n",
    "plt.gca().xaxis.set_major_locator(mdates.DayLocator(interval=50))\n",
    "plt.gcf().autofmt_xdate()\n",
    "\n",
    "# \n",
    "plt.plot(dates, unit_change*diff_unscaled, color='orange', label=r'unscaled IMIC model ($\\alpha=\\beta=1$)')\n",
    "plt.plot(dates, unit_change*diff_IMIC    , color='green' , label='scaling with IMIC model')\n",
    "plt.plot(dates, unit_change*diff_RADS_gim, color='blue'  , label='scaling with RADS GIM model')\n",
    "\n",
    "plt.grid(True, alpha=0.6)\n",
    "plt.legend()\n",
    "plt.xlabel('Time')\n",
    "plt.ylabel('diff wrt. dual-frequency measurement [cm]')\n",
    "\n"
   ]
  }
 ],
 "metadata": {
  "kernelspec": {
   "display_name": "Python 3",
   "language": "python",
   "name": "python3"
  },
  "language_info": {
   "codemirror_mode": {
    "name": "ipython",
    "version": 3
   },
   "file_extension": ".py",
   "mimetype": "text/x-python",
   "name": "python",
   "nbconvert_exporter": "python",
   "pygments_lexer": "ipython3",
   "version": "3.12.2"
  }
 },
 "nbformat": 4,
 "nbformat_minor": 2
}
